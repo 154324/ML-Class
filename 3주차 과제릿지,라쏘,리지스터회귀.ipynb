{
 "cells": [
  {
   "cell_type": "code",
   "execution_count": 34,
   "metadata": {},
   "outputs": [],
   "source": [
    "#릿지 회귀=선형모델 + 가중치 최소화\n",
    "#w의 영향력을 축소화 하여 모델의 간격화를 목적으로 두고 있다.\n",
    "#가중치의 절대값을 가능한 작게 하자\n",
    "import pandas as pd\n",
    "import numpy as np\n",
    "import matplotlib\n",
    "import matplotlib.pyplot as plt\n",
    "import mglearn\n",
    "%matplotlib inline\n",
    "#경고창 삭제하기\n",
    "import warnings\n",
    "warnings.filterwarnings('ignore')\n",
    "\n",
    "\n",
    "#폰트 설정\n",
    "from matplotlib import font_manager, rc\n",
    "font_name = font_manager.FontProperties(fname=\"c:/Windows/Fonts/malgun.ttf\").get_name()\n",
    "rc('font',family=font_name)\n",
    "\n",
    "from sklearn.neighbors import KNeighborsRegressor\n",
    "#train_test_split를 정의 해줘야 하기에 아래 라이브러리 만들어줍니다.\n",
    "from sklearn.model_selection import train_test_split\n",
    "from sklearn.linear_model import Ridge #디폴트 값이 1인 상태\n",
    "#보스턴 주택을 이용하여 릿지 회귀를 분석\n",
    "from sklearn.datasets import load_boston\n",
    "import matplotlib.pyplot as plt\n",
    "boston=load_boston()\n",
    "X, y = mglearn.datasets.load_extended_boston()\n",
    "X_train, X_test, y_train, y_test= train_test_split(X,y,random_state=0)\n",
    "ridge = Ridge().fit(X_train,y_train)"
   ]
  },
  {
   "cell_type": "code",
   "execution_count": 35,
   "metadata": {},
   "outputs": [
    {
     "name": "stdout",
     "output_type": "stream",
     "text": [
      "훈련 세트 점수:0.89\n",
      "테스트 세트 점수: 0.75\n"
     ]
    }
   ],
   "source": [
    "print(\"훈련 세트 점수:{:.2f}\".format(ridge.score(X_train,y_train)))\n",
    "print(\"테스트 세트 점수: {:.2f}\".format(ridge.score(X_test,y_test)))"
   ]
  },
  {
   "cell_type": "code",
   "execution_count": 36,
   "metadata": {},
   "outputs": [],
   "source": [
    "#계수의 크기가 0에 가까울 수록 선형모델과 비슷해진다."
   ]
  },
  {
   "cell_type": "code",
   "execution_count": 37,
   "metadata": {},
   "outputs": [],
   "source": [
    "#alpha =10 과소적합\n",
    "#계수의 편차가 적다, 계수를 0에 더 가까워지고\n",
    "#훈련데이터의 성능이 나빠진다\n",
    "#일반화에 도움이 된다, 복잡도가 낮아진다"
   ]
  },
  {
   "cell_type": "code",
   "execution_count": 38,
   "metadata": {},
   "outputs": [
    {
     "name": "stdout",
     "output_type": "stream",
     "text": [
      "훈련 세트 점수:0.79\n",
      "테스트 세트 점수: 0.64\n"
     ]
    }
   ],
   "source": [
    "ridge10 = Ridge(alpha=10).fit(X_train,y_train)\n",
    "print(\"훈련 세트 점수:{:.2f}\".format(ridge10.score(X_train,y_train)))\n",
    "print(\"테스트 세트 점수: {:.2f}\".format(ridge10.score(X_test,y_test)))"
   ]
  },
  {
   "cell_type": "code",
   "execution_count": 39,
   "metadata": {},
   "outputs": [
    {
     "name": "stdout",
     "output_type": "stream",
     "text": [
      "훈련 세트 점수:0.94\n",
      "테스트 세트 점수: 0.70\n"
     ]
    }
   ],
   "source": [
    "ridge10 = Ridge(alpha=0.01).fit(X_train,y_train)\n",
    "print(\"훈련 세트 점수:{:.2f}\".format(ridge10.score(X_train,y_train)))\n",
    "print(\"테스트 세트 점수: {:.2f}\".format(ridge10.score(X_test,y_test)))"
   ]
  },
  {
   "cell_type": "code",
   "execution_count": 40,
   "metadata": {},
   "outputs": [],
   "source": [
    "#alpha가 작으면 계수 편가 커지고 선형모델과 비슷해집니다\n",
    "#계수에 대한 제약이 풀린다."
   ]
  },
  {
   "cell_type": "code",
   "execution_count": 41,
   "metadata": {},
   "outputs": [],
   "source": [
    "#선형모델은 훈련집합에 대한 높은성능\n",
    "#과대적합이며 데이터증가시 과대적합이 감소\n",
    "#적은수의 훈련데이터에 대해 정확도가 좋다\n",
    "#릿지모델은 테스트집합에 대해 높은 성능 이며\n",
    "#데티어 증가시 규제효과가 감소하기에 복잡한 모델에 사용됩니다."
   ]
  },
  {
   "cell_type": "code",
   "execution_count": 42,
   "metadata": {},
   "outputs": [
    {
     "name": "stdout",
     "output_type": "stream",
     "text": [
      "훈련 세트 점수: 0.29\n",
      "테스트 세트 점수: 0.21\n",
      "사용한 특성의 개수: 4\n"
     ]
    }
   ],
   "source": [
    "#라쏘회귀=알파크기에 따라서 사용되는 특성의 개수가 조절가능 합니다\n",
    "#특징들 중 일부가 중요하거나 완전히 제외되는 특징이 있을 때 사용이 유리하다\n",
    "from sklearn.linear_model import Lasso\n",
    "\n",
    "lasso = Lasso().fit(X_train,y_train)\n",
    "print(\"훈련 세트 점수: {:.2f}\".format(lasso.score(X_train,y_train)))\n",
    "print(\"테스트 세트 점수: {:.2f}\".format(lasso.score(X_test,y_test)))\n",
    "print(\"사용한 특성의 개수: {}\".format(np.sum(lasso.coef_ !=0)))"
   ]
  },
  {
   "cell_type": "code",
   "execution_count": 43,
   "metadata": {},
   "outputs": [],
   "source": [
    "#알파가 1일 때 낮은 성능,적은특성 사용, 과소적합인게 보입니다"
   ]
  },
  {
   "cell_type": "code",
   "execution_count": 44,
   "metadata": {},
   "outputs": [
    {
     "name": "stdout",
     "output_type": "stream",
     "text": [
      "훈련 세트 점수: 0.90\n",
      "테스트 세트 점수: 0.77\n",
      "사용한 특성의 개수: 33\n"
     ]
    }
   ],
   "source": [
    "lasso001 = Lasso(alpha=0.01,max_iter=100000).fit(X_train,y_train)\n",
    "print(\"훈련 세트 점수: {:.2f}\".format(lasso001.score(X_train,y_train)))\n",
    "print(\"테스트 세트 점수: {:.2f}\".format(lasso001.score(X_test,y_test)))\n",
    "print(\"사용한 특성의 개수: {}\".format(np.sum(lasso001.coef_ !=0)))"
   ]
  },
  {
   "cell_type": "code",
   "execution_count": 45,
   "metadata": {},
   "outputs": [
    {
     "name": "stdout",
     "output_type": "stream",
     "text": [
      "훈련 세트 점수: 0.95\n",
      "테스트 세트 점수: 0.64\n",
      "사용한 특성의 개수: 96\n"
     ]
    }
   ],
   "source": [
    "lasso00001 = Lasso(alpha=0.0001,max_iter=100000).fit(X_train,y_train)\n",
    "print(\"훈련 세트 점수: {:.2f}\".format(lasso00001.score(X_train,y_train)))\n",
    "print(\"테스트 세트 점수: {:.2f}\".format(lasso00001.score(X_test,y_test)))\n",
    "print(\"사용한 특성의 개수: {}\".format(np.sum(lasso00001.coef_ !=0)))"
   ]
  },
  {
   "cell_type": "code",
   "execution_count": 46,
   "metadata": {},
   "outputs": [],
   "source": [
    "#0.01 일때는 패널티 효과감소, 복잡도 증가를 보였습니다.\n",
    "#즉 작게하면 선형모델과 유사함을 알수가 있습니다."
   ]
  },
  {
   "cell_type": "code",
   "execution_count": 47,
   "metadata": {},
   "outputs": [
    {
     "data": {
      "text/plain": [
       "Text(0, 0.5, '계수크기')"
      ]
     },
     "execution_count": 47,
     "metadata": {},
     "output_type": "execute_result"
    },
    {
     "data": {
      "image/png": "[encoded data removed]",
      "text/plain": [
       "<Figure size 432x288 with 1 Axes>"
      ]
     },
     "metadata": {
      "needs_background": "light"
     },
     "output_type": "display_data"
    }
   ],
   "source": [
    "plt.plot(lasso.coef_,'s',label=\"Lasso alpha=1\")\n",
    "plt.plot(lasso001.coef_,'^',label=\"Lasso alpha=0.01\")\n",
    "plt.plot(lasso00001.coef_,'^',label=\"Lasso alpha=0.0001\")\n",
    "\n",
    "plt.plot(ridge10.coef_,'o',label=\"ridge alpha=0.1\")\n",
    "plt.legend(ncol=2, loc=(0,1.05))\n",
    "plt.ylim(-25,25)\n",
    "plt.xlabel(\"계수목록\")\n",
    "plt.ylabel(\"계수크기\")"
   ]
  },
  {
   "cell_type": "code",
   "execution_count": null,
   "metadata": {},
   "outputs": [],
   "source": [
    "#알파 값이 작을수록 계수크기는 커지며 규제를 받지 않게 된다."
   ]
  },
  {
   "cell_type": "code",
   "execution_count": 51,
   "metadata": {
    "scrolled": true
   },
   "outputs": [
    {
     "name": "stdout",
     "output_type": "stream",
     "text": [
      "['data', 'target', 'frame', 'target_names', 'DESCR', 'feature_names', 'filename']\n",
      "타깃의 이름:['setosa' 'versicolor' 'virginica']\n",
      "특성의 이름:['sepal length (cm)', 'sepal width (cm)', 'petal length (cm)', 'petal width (cm)']\n",
      "(150, 1)\n",
      "(150,)\n"
     ]
    }
   ],
   "source": [
    "#분류용 선형모델 : 로지스틱 회귀분석\n",
    "#두개의 값만 갖는 모델\n",
    "#독립변수의 선형결합을 통해 사건의 발생 가능성을 예측하는 겁니다.\n",
    "#무한의 값을 가는 선형 회귀 식을 통해 두개의 값만을 갖는 결과를 가져와야한다(0또는 1)\n",
    "\n",
    "from sklearn.linear_model import LogisticRegression\n",
    "from sklearn import datasets\n",
    "iris = datasets.load_iris()\n",
    "print(list(iris.keys()))\n",
    "print(\"타깃의 이름:{}\".format(iris['target_names']))\n",
    "print(\"특성의 이름:{}\".format(iris['feature_names']))\n",
    "X=iris[\"data\"][:,3:]\n",
    "print(X.shape) #pental width\n",
    "y=(iris[\"target\"]==2).astype(np.int) #virgincia면 1 아니면 0\n",
    "print(y.shape)"
   ]
  },
  {
   "cell_type": "code",
   "execution_count": 53,
   "metadata": {
    "scrolled": true
   },
   "outputs": [
    {
     "data": {
      "image/png": "[encoded data removed]",
      "text/plain": [
       "<Figure size 432x288 with 1 Axes>"
      ]
     },
     "metadata": {
      "needs_background": "light"
     },
     "output_type": "display_data"
    },
    {
     "data": {
      "text/plain": [
       "array([1, 0, 0, 1])"
      ]
     },
     "execution_count": 53,
     "metadata": {},
     "output_type": "execute_result"
    }
   ],
   "source": [
    "log_reg =LogisticRegression()\n",
    "log_reg.fit(X,y)\n",
    "#꽃잎의 너비가 0-3cm인 꽃에 대해 모델의 추정확률\n",
    "X_new = np.linspace(0,3,1000).reshape(-1,1)\n",
    "y_proba = log_reg.predict_proba(X_new)\n",
    "\n",
    "plt.plot(X,y,\"b.\")\n",
    "plt.plot(X_new,y_proba[:,1],\"g--\",label=\"iris-virginica\")\n",
    "plt.plot(X_new,y_proba[:,0],\"b--\",label=\"not iris-virginica\")\n",
    "plt.xlabel(\"petal width\",fontsize=14)\n",
    "plt.ylabel(\"probability\",fontsize=14)\n",
    "plt.legend(loc=\"upper left\",fontsize=14)\n",
    "plt.show()\n",
    "log_reg.predict([[1.7],[1.5],[1.3],[2.0]])"
   ]
  },
  {
   "cell_type": "code",
   "execution_count": null,
   "metadata": {},
   "outputs": [],
   "source": [
    "#곡선이 만나는 점에 따라서 왼쪽이면 not 오른쪽이면 virgincia로 분류가 된다"
   ]
  },
  {
   "cell_type": "code",
   "execution_count": 56,
   "metadata": {},
   "outputs": [
    {
     "name": "stdout",
     "output_type": "stream",
     "text": [
      "훈련 세트 점수:  0.958\n",
      "테스트 세트 점수:  0.958\n"
     ]
    }
   ],
   "source": [
    "#Cancer 분류 : malignant vs.benign\n",
    "from sklearn.datasets import load_breast_cancer\n",
    "cancer = load_breast_cancer()\n",
    "X_train, X_test, y_train, y_test = train_test_split(\n",
    "cancer.data,cancer.target,stratify=cancer.target,random_state=42)\n",
    "logreg =LogisticRegression(max_iter=5000).fit(X_train,y_train)\n",
    "print(\"훈련 세트 점수: {: .3f}\".format(logreg.score(X_train,y_train)))\n",
    "print(\"테스트 세트 점수: {: .3f}\".format(logreg.score(X_test,y_test)))"
   ]
  },
  {
   "cell_type": "code",
   "execution_count": null,
   "metadata": {},
   "outputs": [],
   "source": [
    "#C가 1인게 디폴트 값이며, 값에 따라 복잡도,성능,규제가 바뀐다"
   ]
  },
  {
   "cell_type": "code",
   "execution_count": 57,
   "metadata": {
    "scrolled": true
   },
   "outputs": [
    {
     "name": "stdout",
     "output_type": "stream",
     "text": [
      "훈련 세트 점수:  0.984\n",
      "테스트 세트 점수:  0.965\n"
     ]
    }
   ],
   "source": [
    "logreg100 =LogisticRegression(C=100,max_iter=5000).fit(X_train,y_train)\n",
    "print(\"훈련 세트 점수: {: .3f}\".format(logreg100.score(X_train,y_train)))\n",
    "print(\"테스트 세트 점수: {: .3f}\".format(logreg100.score(X_test,y_test)))"
   ]
  },
  {
   "cell_type": "code",
   "execution_count": null,
   "metadata": {},
   "outputs": [],
   "source": [
    "#C가 클수록 패널티가 작아지며 규제완화, 훈련세트에 맞추려고 하며 성능이 향상"
   ]
  },
  {
   "cell_type": "code",
   "execution_count": 59,
   "metadata": {},
   "outputs": [
    {
     "name": "stdout",
     "output_type": "stream",
     "text": [
      "훈련 세트 점수:  0.953\n",
      "테스트 세트 점수:  0.951\n"
     ]
    }
   ],
   "source": [
    "logreg001 =LogisticRegression(C=0.01,max_iter=5000).fit(X_train,y_train)\n",
    "print(\"훈련 세트 점수: {: .3f}\".format(logreg001.score(X_train,y_train)))\n",
    "print(\"테스트 세트 점수: {: .3f}\".format(logreg001.score(X_test,y_test)))"
   ]
  },
  {
   "cell_type": "code",
   "execution_count": null,
   "metadata": {},
   "outputs": [],
   "source": [
    "#C가 작아질수록 규제강화,패널티가 커지며 계수를 0에 가깝게 된다,성능이 약화"
   ]
  },
  {
   "cell_type": "code",
   "execution_count": null,
   "metadata": {},
   "outputs": [],
   "source": [
    "#전반적으로 코드에 따라서는 이해가 쉬우나 좀 더 복습을 해보아야 할 것 같습니다.."
   ]
  }
 ],
 "metadata": {
  "kernelspec": {
   "display_name": "Python 3",
   "language": "python",
   "name": "python3"
  },
  "language_info": {
   "codemirror_mode": {
    "name": "ipython",
    "version": 3
   },
   "file_extension": ".py",
   "mimetype": "text/x-python",
   "name": "python",
   "nbconvert_exporter": "python",
   "pygments_lexer": "ipython3",
   "version": "3.8.5"
  }
 },
 "nbformat": 4,
 "nbformat_minor": 4
}

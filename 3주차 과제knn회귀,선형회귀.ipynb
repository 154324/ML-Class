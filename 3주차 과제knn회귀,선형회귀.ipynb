{
 "cells": [
  {
   "cell_type": "code",
   "execution_count": 18,
   "metadata": {},
   "outputs": [
    {
     "data": {
      "text/plain": [
       "Text(0, 0.5, '타깃')"
      ]
     },
     "execution_count": 18,
     "metadata": {},
     "output_type": "execute_result"
    },
    {
     "data": {
      "image/png": "[encoded data removed]",
      "text/plain": [
       "<Figure size 432x288 with 1 Axes>"
      ]
     },
     "metadata": {
      "needs_background": "light"
     },
     "output_type": "display_data"
    }
   ],
   "source": [
    "import pandas as pd\n",
    "import numpy as np\n",
    "import matplotlib\n",
    "import matplotlib.pyplot as plt\n",
    "import mglearn\n",
    "%matplotlib inline\n",
    "from sklearn.neighbors import KNeighborsRegressor\n",
    "#train_test_split를 정의 해줘야 하기에 아래 라이브러리 만들어줍니다.\n",
    "from sklearn.model_selection import train_test_split\n",
    "#경고창 삭제하기\n",
    "import warnings\n",
    "warnings.filterwarnings('ignore')\n",
    "\n",
    "\n",
    "#폰트 설정\n",
    "from matplotlib import font_manager, rc\n",
    "font_name = font_manager.FontProperties(fname=\"c:/Windows/Fonts/malgun.ttf\").get_name()\n",
    "rc('font',family=font_name)\n",
    "\n",
    "#데이터 WAVE (WAVE를 만들어주는 함수!)\n",
    "X,y = mglearn.datasets.make_wave(n_samples=40)\n",
    "plt.plot(X,y,'o')\n",
    "plt.ylim(-3,3)\n",
    "plt.xlabel(\"특성\")\n",
    "plt.ylabel(\"타깃\")\n"
   ]
  },
  {
   "cell_type": "code",
   "execution_count": 20,
   "metadata": {},
   "outputs": [
    {
     "data": {
      "text/plain": [
       "KNeighborsRegressor(n_neighbors=3)"
      ]
     },
     "execution_count": 20,
     "metadata": {},
     "output_type": "execute_result"
    }
   ],
   "source": [
    "X, y = mglearn.datasets.make_wave(n_samples =40)\n",
    "# wava 데이터셋을 훈련 세트와 테스트 세트로 나눈다\n",
    "X_train, X_test, y_train, y_test= train_test_split(X,y,random_state=0)\n",
    "# 이웃의 수를 3으로 하여 모델의 개체를 만든다.\n",
    "reg =KNeighborsRegressor(n_neighbors=3)\n",
    "#훈련 데이터와 타깃을 사용하여 모델을 학습시킨다.\n",
    "reg.fit(X_train,y_train)"
   ]
  },
  {
   "cell_type": "code",
   "execution_count": 21,
   "metadata": {},
   "outputs": [
    {
     "name": "stdout",
     "output_type": "stream",
     "text": [
      "테스트 세트 예측:\n",
      "[-0.05396539  0.35686046  1.13671923 -1.89415682 -1.13881398 -1.63113382\n",
      "  0.35686046  0.91241374 -0.44680446 -1.13881398]\n"
     ]
    }
   ],
   "source": [
    "print(\"테스트 세트 예측:\\n{}\".format(reg.predict(X_test)))"
   ]
  },
  {
   "cell_type": "code",
   "execution_count": 22,
   "metadata": {
    "scrolled": false
   },
   "outputs": [
    {
     "name": "stdout",
     "output_type": "stream",
     "text": [
      "테스트 세트 R^2: 0.83\n"
     ]
    }
   ],
   "source": [
    "print(\"테스트 세트 R^2: {:.2f}\".format(reg.score(X_test,y_test)))\n",
    "#0.83으로 좋은 테스트 결과가 나오네요"
   ]
  },
  {
   "cell_type": "code",
   "execution_count": null,
   "metadata": {},
   "outputs": [],
   "source": [
    "#이번에는 테스트 k의 값을 1로 바꾸어보니 결과값이 더 낮아지는 치명적인 결과를 나타나는 걸 볼 수가 있었습니다"
   ]
  },
  {
   "cell_type": "code",
   "execution_count": 23,
   "metadata": {
    "scrolled": true
   },
   "outputs": [
    {
     "name": "stdout",
     "output_type": "stream",
     "text": [
      "테스트 세트 예측:\n",
      "[-0.3409073   0.03527881  1.87664889 -2.47196233 -1.52730805 -1.67303415\n",
      "  0.03497884  0.86893293  0.09398858 -1.52730805]\n",
      "테스트 세트 R^2: 0.35\n"
     ]
    }
   ],
   "source": [
    "X, y = mglearn.datasets.make_wave(n_samples =40)\n",
    "# wava 데이터셋을 훈련 세트와 테스트 세트로 나눈다\n",
    "X_train, X_test, y_train, y_test= train_test_split(X,y,random_state=0)\n",
    "# 이웃의 수를 3으로 하여 모델의 개체를 만든다.\n",
    "reg =KNeighborsRegressor(n_neighbors=1)\n",
    "#훈련 데이터와 타깃을 사용하여 모델을 학습시킨다.\n",
    "reg.fit(X_train,y_train)\n",
    "print(\"테스트 세트 예측:\\n{}\".format(reg.predict(X_test)))\n",
    "print(\"테스트 세트 R^2: {:.2f}\".format(reg.score(X_test,y_test)))"
   ]
  },
  {
   "cell_type": "code",
   "execution_count": null,
   "metadata": {},
   "outputs": [],
   "source": [
    "#이번에는 test사이즈를 40과 60으로 놓고 비교를 해보겠습니다"
   ]
  },
  {
   "cell_type": "code",
   "execution_count": 25,
   "metadata": {},
   "outputs": [
    {
     "name": "stdout",
     "output_type": "stream",
     "text": [
      "테스트 세트 예측:\n",
      "[-0.05396539  0.42989718  0.82597372 -1.89415682 -1.04203645 -1.63113382\n",
      "  0.16931864  0.91241374 -0.44561282 -1.04203645 -0.49284968  0.82597372\n",
      " -1.04203645  0.41271285 -0.44561282  0.42989718]\n",
      "테스트 세트 R^2: 0.68\n"
     ]
    }
   ],
   "source": [
    "X, y = mglearn.datasets.make_wave(n_samples =40)\n",
    "# wava 데이터셋을 훈련 세트와 테스트 세트로 나눈다\n",
    "X_train, X_test, y_train, y_test= train_test_split(X,y,random_state=0,test_size=0.4)\n",
    "# 이웃의 수를 3으로 하여 모델의 개체를 만든다.\n",
    "reg =KNeighborsRegressor(n_neighbors=3)\n",
    "#훈련 데이터와 타깃을 사용하여 모델을 학습시킨다.\n",
    "reg.fit(X_train,y_train)\n",
    "print(\"테스트 세트 예측:\\n{}\".format(reg.predict(X_test)))\n",
    "print(\"테스트 세트 R^2: {:.2f}\".format(reg.score(X_test,y_test)))"
   ]
  },
  {
   "cell_type": "code",
   "execution_count": 26,
   "metadata": {},
   "outputs": [
    {
     "name": "stdout",
     "output_type": "stream",
     "text": [
      "테스트 세트 예측:\n",
      "[-0.23052151  0.17297644  0.82597372 -1.44835276 -1.04203645 -1.44835276\n",
      "  0.17297644  1.12082662 -0.44561282 -1.04203645 -0.46647437  0.82597372\n",
      " -1.04203645  0.41271285 -0.44561282  0.17297644  1.12082662 -0.23052151\n",
      " -0.23052151  0.17297644 -1.44835276 -1.44835276 -0.46647437 -1.44835276]\n",
      "테스트 세트 R^2: 0.77\n"
     ]
    }
   ],
   "source": [
    "X, y = mglearn.datasets.make_wave(n_samples =40)\n",
    "# wava 데이터셋을 훈련 세트와 테스트 세트로 나눈다\n",
    "X_train, X_test, y_train, y_test= train_test_split(X,y,random_state=0,test_size=0.6)\n",
    "# 이웃의 수를 3으로 하여 모델의 개체를 만든다.\n",
    "reg =KNeighborsRegressor(n_neighbors=3)\n",
    "#훈련 데이터와 타깃을 사용하여 모델을 학습시킨다.\n",
    "reg.fit(X_train,y_train)\n",
    "print(\"테스트 세트 예측:\\n{}\".format(reg.predict(X_test)))\n",
    "print(\"테스트 세트 R^2: {:.2f}\".format(reg.score(X_test,y_test)))"
   ]
  },
  {
   "cell_type": "code",
   "execution_count": null,
   "metadata": {},
   "outputs": [],
   "source": [
    "#테스트 사이즈가 커질수로 테스트 측정값이 높아졌습니다. 즉 테스트에 대해서는 더 안정된 예측을 할수 있다는 것을 알 수가 있었습니다"
   ]
  },
  {
   "cell_type": "code",
   "execution_count": 34,
   "metadata": {
    "scrolled": false
   },
   "outputs": [
    {
     "name": "stdout",
     "output_type": "stream",
     "text": [
      "X_train.shape: (16, 1) X_test.shape : (24, 1)\n",
      "X_train.shape: (16, 1) X_test.shape : (24, 1)\n",
      "X_train.shape: (16, 1) X_test.shape : (24, 1)\n"
     ]
    },
    {
     "data": {
      "text/plain": [
       "<matplotlib.legend.Legend at 0x1c619a6e610>"
      ]
     },
     "execution_count": 34,
     "metadata": {},
     "output_type": "execute_result"
    },
    {
     "data": {
      "image/png": "[encoded data removed]",
      "text/plain": [
       "<Figure size 1080x288 with 3 Axes>"
      ]
     },
     "metadata": {
      "needs_background": "light"
     },
     "output_type": "display_data"
    }
   ],
   "source": [
    "#figure 내에서 축을 가지는 하나의 좌표평면과 같은 개념이다.\n",
    "#실제로 데이터가 그려지는 axes 입니다.\n",
    "#subplot은 하나의 figure에 마치 표처럼 여러 axes를 표현할 수 있게 해준다.\n",
    "fig,axes =plt.subplots(1,3,figsize=(15,4))\n",
    "#1열에 3개의 표를 만들어주고 사이즈를 가로 15 세로 4에 좌표평면들을 만들어준다\n",
    "for n_neighbors, ax in zip([1,3,9],axes):\n",
    "    # k의 값을 1,3,9 이웃을 사용한 예측을 합니다\n",
    "    reg =KNeighborsRegressor(n_neighbors=n_neighbors)\n",
    "    print(\"X_train.shape: {}\".format(X_train.shape),\"X_test.shape : {}\".format(X_test.shape))\n",
    "    reg.fit(X_train,y_train)\n",
    "    ax.plot(X_test,reg.predict(X_test),'v',c=mglearn.cm3(2),markersize=8)#모델 예측\n",
    "    ax.plot(X_train,y_train,'^',c=mglearn.cm2(0),markersize=8)#훈련 데이터/타킷\n",
    "    ax.plot(X_test,y_test,'^',c=mglearn.cm2(1),markersize=8)#테스트 데이터/타깃\n",
    "    ax.set_title(\n",
    "    \"{} 이웃의 훈련 스코어 : {:.2f} 테스트 스코어: {: .2f}\".format(\n",
    "    n_neighbors,reg.score(X_train,y_train),reg.score(X_test,y_test)))\n",
    "    ax.set_xlabel(\"특성\")\n",
    "    ax.set_ylabel(\"타깃\")\n",
    "axes[0].legend([\"모델 예측\",\"훈련 데이터/타깃\",\"테스트 데이터/타깃\"], loc=\"best\")\n",
    "    \n",
    "                        "
   ]
  },
  {
   "cell_type": "code",
   "execution_count": null,
   "metadata": {},
   "outputs": [],
   "source": [
    "#K의 수가 증가함에 따라 훈련에 대한 정확도는 감소하지만, 테스트에 대해서는 더 안정된 예측을 할 수 있다는 것을 볼 수 있었습니다"
   ]
  },
  {
   "cell_type": "code",
   "execution_count": null,
   "metadata": {},
   "outputs": [],
   "source": [
    "#knn은 특성 개수나 샘플 개수가 크면 예측이 느리다는 것과 데이터 전처리가 중요하다는 것을 표로 통해 알 수가 있었습니다"
   ]
  },
  {
   "cell_type": "code",
   "execution_count": 41,
   "metadata": {},
   "outputs": [
    {
     "name": "stdout",
     "output_type": "stream",
     "text": [
      "x의 평균값: 5.75\n",
      "y의 평균값: 78.0\n",
      "분모: 26.75\n",
      "분자: 63.0\n",
      "기울기 a = 2.3551401869158877\n",
      "y 절편 b = 64.45794392523365\n"
     ]
    }
   ],
   "source": [
    "#선형회귀모델\n",
    "#어떠한 선형 데이터를 통해 미래 값을 예측 할 수가 있따\n",
    "#x축은 데이터의 특성 또는 특성의 수\n",
    "#w,b는 모델이 학습할 파라미터\n",
    "#y는 모델 생성 예측값\n",
    "#내가 만든 모델과 정답 모델의 차이가 최소화 하는 a,b를 찾는게 중요하다\n",
    "\n",
    "# x 값과 y 값을 변경해보았습니다.\n",
    "x=[2, 5, 7, 9]\n",
    "y=[71, 83, 61, 97]\n",
    "# x와 y의 평균값\n",
    "mx = np.mean(x)\n",
    "my = np.mean(y)\n",
    "print(\"x의 평균값:\", mx)\n",
    "print(\"y의 평균값:\", my)\n",
    "# 기울기 공식의 분모\n",
    "divisor = sum([(mx - i)**2 for i in x])\n",
    "\n",
    "# 기울기 공식의 분자\n",
    "def top(x, mx, y, my): \n",
    "    d = 0\n",
    "    for i in range(len(x)):\n",
    "        d += (x[i] - mx) * (y[i] - my)\n",
    "    return d\n",
    "dividend = top(x, mx, y, my)\n",
    "print(\"분모:\", divisor)\n",
    "print(\"분자:\", dividend)\n",
    "# 기울기와 y 절편 구하기\n",
    "a = dividend / divisor\n",
    "b = my - (mx*a)\n",
    "# 출력으로 확인\n",
    "print(\"기울기 a =\", a)\n",
    "print(\"y 절편 b =\", b)"
   ]
  },
  {
   "cell_type": "code",
   "execution_count": 42,
   "metadata": {},
   "outputs": [
    {
     "name": "stdout",
     "output_type": "stream",
     "text": [
      "공부한 시간 = 2, 실제 점수 = 81, 예측 점수 = 82\n",
      "공부한 시간 = 4, 실제 점수 = 93, 예측 점수 = 88\n",
      "공부한 시간 = 6, 실제 점수 = 91, 예측 점수 = 94\n",
      "공부한 시간 = 8, 실제 점수 = 97, 예측 점수 = 100\n",
      "rmse 최종값: 3.3166247903554\n"
     ]
    }
   ],
   "source": [
    "#평균제곱은 오차를 구하는 코드\n",
    "#선이 얼마나 잘 그려졌는지 평가하여 조금씩 수정해가는 방법을 사용합니다\n",
    "# 기울기 a와 y 절편 b\n",
    "ab = [3, 76]\n",
    "# x, y의 데이터 값\n",
    "data = [[2, 81], [4, 93], [6, 91], [8, 97]]\n",
    "x = [i[0] for i in data]\n",
    "y = [i[1] for i in data]\n",
    "# y = ax + b에 a와 b 값을 대입하여 결과를 출력하는함수\n",
    "def predict(x):\n",
    "    return ab[0]*x + ab[1]\n",
    "# RMSE 함수\n",
    "def rmse(p, a):\n",
    "    return np.sqrt(((p - a) ** 2).mean())\n",
    "# RMSE 함수를 각 y 값에 대입하여 최종 값을 구하는 함수\n",
    "def rmse_val(predict_result,y):\n",
    "    return rmse(np.array(predict_result), np.array(y))\n",
    "# 예측 값이 들어갈 빈 리스트\n",
    "predict_result = []\n",
    "# 모든 x 값을 한 번씩 대입하여\n",
    "for i in range(len(x)):\n",
    "    # predict_result 리스트를 완성한다.\n",
    "    predict_result.append(predict(x[i]))\n",
    "    print(\"공부한 시간 = %.f, 실제 점수 = %.f, 예측 점수 = %.f\" % (x[i], y[i],\n",
    "                                                      predict(x[i])))\n",
    "# 최종 RMSE 출력\n",
    "print(\"rmse 최종값: \" + str(rmse_val(predict_result,y)))\n"
   ]
  },
  {
   "cell_type": "code",
   "execution_count": 57,
   "metadata": {},
   "outputs": [
    {
     "name": "stdout",
     "output_type": "stream",
     "text": [
      "훈련 세트 점수:  0.67\n",
      "테스트 세트 점수:  0.66\n",
      "lr.coef_: [0.39390555]\n",
      "lr.intercept_: -0.031804343026759746\n"
     ]
    }
   ],
   "source": [
    "#경사하강법이란 최소제곱문제의 근사해를 수치적으로 해결하는 방법으로 점차적으로\n",
    "#a,b를 바꾸면서 점차 최소가 되는 선을 구하는 방법(오차가 작아지는 쪽으로)\n",
    "#평균제곱오차가 최소가 되는 w,b를 탐색하기 위해서는 2차함수가 된다.\n",
    "#미분을 통해 기울기가 0이 되는 곳이 에러가 가장 적은 x,b의 값이다.\n",
    "\n",
    "from sklearn.linear_model import LinearRegression\n",
    "import matplotlib.pyplot as plt\n",
    "import numpy as np\n",
    "X, y = mglearn.datasets.make_wave(n_samples =60)\n",
    "X_train, X_test, y_train, y_test= train_test_split(X,y,random_state=42)\n",
    "lr= LinearRegression().fit(X_train,y_train)\n",
    "print(\"훈련 세트 점수: {: .2f}\".format(lr.score(X_train,y_train)))\n",
    "print(\"테스트 세트 점수: {: .2f}\".format(lr.score(X_test,y_test)))\n",
    "print(\"lr.coef_:\", lr.coef_) #a의 값(기울기)\n",
    "print(\"lr.intercept_:\", lr.intercept_)#b의 값을 나타낸다\n"
   ]
  },
  {
   "cell_type": "code",
   "execution_count": 58,
   "metadata": {},
   "outputs": [],
   "source": [
    "#샘플의 수를 40, 100, 500 일 때 비교를 해보겠습니다."
   ]
  },
  {
   "cell_type": "code",
   "execution_count": 59,
   "metadata": {
    "scrolled": true
   },
   "outputs": [
    {
     "name": "stdout",
     "output_type": "stream",
     "text": [
      "n_samples =40\n",
      "훈련 세트 점수:  0.65\n",
      "테스트 세트 점수:  0.77\n",
      "w[0]의 값: [0.47954524]\n",
      "b: -0.09847983994403892\n"
     ]
    }
   ],
   "source": [
    "print(\"n_samples =40\")\n",
    "X, y = mglearn.datasets.make_wave(n_samples =40)\n",
    "X_train, X_test, y_train, y_test= train_test_split(X,y,random_state=42)\n",
    "lr= LinearRegression().fit(X_train,y_train)\n",
    "print(\"훈련 세트 점수: {: .2f}\".format(lr.score(X_train,y_train)))\n",
    "print(\"테스트 세트 점수: {: .2f}\".format(lr.score(X_test,y_test)))\n",
    "print(\"w[0]의 값:\", lr.coef_) #a의 값(기울기)\n",
    "print(\"b:\", lr.intercept_)#b의 값을 나타낸다\n"
   ]
  },
  {
   "cell_type": "code",
   "execution_count": 60,
   "metadata": {},
   "outputs": [
    {
     "name": "stdout",
     "output_type": "stream",
     "text": [
      "n_samples =100\n",
      "훈련 세트 점수:  0.59\n",
      "테스트 세트 점수:  0.66\n",
      "w[0]의 값: [0.40443939]\n",
      "b: -0.022568028173365354\n"
     ]
    }
   ],
   "source": [
    "print(\"n_samples =100\")\n",
    "X, y = mglearn.datasets.make_wave(n_samples =100)\n",
    "X_train, X_test, y_train, y_test= train_test_split(X,y,random_state=42)\n",
    "lr= LinearRegression().fit(X_train,y_train)\n",
    "print(\"훈련 세트 점수: {: .2f}\".format(lr.score(X_train,y_train)))\n",
    "print(\"테스트 세트 점수: {: .2f}\".format(lr.score(X_test,y_test)))\n",
    "print(\"w[0]의 값:\", lr.coef_) #a의 값(기울기)\n",
    "print(\"b:\", lr.intercept_)#b의 값을 나타낸다"
   ]
  },
  {
   "cell_type": "code",
   "execution_count": 61,
   "metadata": {},
   "outputs": [
    {
     "name": "stdout",
     "output_type": "stream",
     "text": [
      "n_samples =500\n",
      "훈련 세트 점수:  0.68\n",
      "테스트 세트 점수:  0.57\n",
      "w[0]의 값: [0.48215751]\n",
      "b: 0.04154708498957077\n"
     ]
    }
   ],
   "source": [
    "print(\"n_samples =500\")\n",
    "X, y = mglearn.datasets.make_wave(n_samples =500)\n",
    "X_train, X_test, y_train, y_test= train_test_split(X,y,random_state=42)\n",
    "lr= LinearRegression().fit(X_train,y_train)\n",
    "print(\"훈련 세트 점수: {: .2f}\".format(lr.score(X_train,y_train)))\n",
    "print(\"테스트 세트 점수: {: .2f}\".format(lr.score(X_test,y_test)))\n",
    "print(\"w[0]의 값:\", lr.coef_) #a의 값(기울기)\n",
    "print(\"b:\", lr.intercept_)#b의 값을 나타낸다"
   ]
  },
  {
   "cell_type": "code",
   "execution_count": 62,
   "metadata": {},
   "outputs": [],
   "source": [
    "#아무래도 1차원 적인 선형회귀에서는 데이터 수가 많으면 테스트 정확도가 떨어지는 것을 알수가 있었습니다."
   ]
  },
  {
   "cell_type": "code",
   "execution_count": 68,
   "metadata": {
    "scrolled": true
   },
   "outputs": [
    {
     "data": {
      "text/plain": [
       "<matplotlib.collections.PathCollection at 0x1c61aefaf70>"
      ]
     },
     "execution_count": 68,
     "metadata": {},
     "output_type": "execute_result"
    },
    {
     "data": {
      "image/png": "[encoded data removed]",
      "text/plain": [
       "<Figure size 432x288 with 1 Axes>"
      ]
     },
     "metadata": {
      "needs_background": "light"
     },
     "output_type": "display_data"
    }
   ],
   "source": [
    "#보스톤 주택 가격 예측\n",
    "from sklearn.datasets import load_boston\n",
    "import matplotlib.pyplot as plt\n",
    "boston=load_boston()\n",
    "#보스턴 주택 가격 산점도를 먼저 나타내겠습니다\n",
    "plt.scatter(boston.data[:,5],boston.target,color='r',s=10)"
   ]
  },
  {
   "cell_type": "code",
   "execution_count": null,
   "metadata": {},
   "outputs": [],
   "source": [
    "#방의 갯수가 늘어나면 주택가격이 높아짐을 나타내고 이 특징으로 선형회귀를 해봅니다"
   ]
  },
  {
   "cell_type": "code",
   "execution_count": 70,
   "metadata": {},
   "outputs": [
    {
     "name": "stdout",
     "output_type": "stream",
     "text": [
      "(506,)\n",
      "(506, 1)\n",
      "w[0]: 9.102109 b:  -34.670621\n"
     ]
    },
    {
     "data": {
      "text/plain": [
       "[<matplotlib.lines.Line2D at 0x1c61af69040>]"
      ]
     },
     "execution_count": 70,
     "metadata": {},
     "output_type": "execute_result"
    },
    {
     "data": {
      "image/png": "[encoded data removed]",
      "text/plain": [
       "<Figure size 432x288 with 1 Axes>"
      ]
     },
     "metadata": {
      "needs_background": "light"
     },
     "output_type": "display_data"
    }
   ],
   "source": [
    "#속성 하나로 선형회귀 실험\n",
    "X=boston.data[:,5]\n",
    "print(X.shape)\n",
    "#LinearRegerssion의 함수에 인자로 전달하기 위해서는\n",
    "#각 원소의 값이 담긴 2차원 배열을 (n,1)의 형태로 만들어야 함\n",
    "#atleast_2d 함수는 x 데이터를 2차원 배열 (1,n) 형태로 만들어 준다\n",
    "\n",
    "X_1 = np.atleast_2d(X)\n",
    "X_2 = np.transpose(X_1)\n",
    "print(X_2.shape)\n",
    "y= boston.target\n",
    "\n",
    "lr.fit(X_2,y)\n",
    "y_predicted=lr.predict(X_2)\n",
    "print(\"w[0]: %f b:  %f\" % (lr.coef_[0], lr.intercept_))\n",
    "plt.plot(X_2,y_predicted)\n",
    "plt.plot(X_2,y, 'o',color='r',markersize=8)"
   ]
  },
  {
   "cell_type": "code",
   "execution_count": 72,
   "metadata": {
    "scrolled": true
   },
   "outputs": [
    {
     "name": "stdout",
     "output_type": "stream",
     "text": [
      "X.shape: (506, 104)\n",
      "X_train.shape: (379, 104) X_test.shape : (127, 104)\n",
      "훈련 세트 점수:  0.95\n",
      "테스트 세트 점수:  0.61\n"
     ]
    }
   ],
   "source": [
    "X, y = mglearn.datasets.load_extended_boston()\n",
    "print(\"X.shape: {}\".format(X.shape))\n",
    "X_train, X_test, y_train, y_test= train_test_split(X,y,random_state=0)\n",
    "print(\"X_train.shape: {}\".format(X_train.shape),\"X_test.shape : {}\".format(X_test.shape))\n",
    "lr=LinearRegression().fit(X_train,y_train)\n",
    "print(\"훈련 세트 점수: {: .2f}\".format(lr.score(X_train,y_train)))\n",
    "print(\"테스트 세트 점수: {: .2f}\".format(lr.score(X_test,y_test)))"
   ]
  },
  {
   "cell_type": "code",
   "execution_count": null,
   "metadata": {},
   "outputs": [],
   "source": [
    "#보스톤 확장 데이터로 k의 수에 따라 테스트 점수도 비교 해보겠습니다"
   ]
  },
  {
   "cell_type": "code",
   "execution_count": 74,
   "metadata": {},
   "outputs": [
    {
     "name": "stdout",
     "output_type": "stream",
     "text": [
      "훈련 세트 점수:  0.90\n",
      "테스트 세트 점수:  0.61\n"
     ]
    }
   ],
   "source": [
    "knn= KNeighborsRegressor(n_neighbors=3).fit(X_train,y_train)\n",
    "print(\"훈련 세트 점수: {: .2f}\".format(knn.score(X_train,y_train)))\n",
    "print(\"테스트 세트 점수: {: .2f}\".format(knn.score(X_test,y_test)))"
   ]
  },
  {
   "cell_type": "code",
   "execution_count": 75,
   "metadata": {},
   "outputs": [
    {
     "name": "stdout",
     "output_type": "stream",
     "text": [
      "훈련 세트 점수:  0.81\n",
      "테스트 세트 점수:  0.56\n"
     ]
    }
   ],
   "source": [
    "knn= KNeighborsRegressor(n_neighbors=6).fit(X_train,y_train)\n",
    "print(\"훈련 세트 점수: {: .2f}\".format(knn.score(X_train,y_train)))\n",
    "print(\"테스트 세트 점수: {: .2f}\".format(knn.score(X_test,y_test)))"
   ]
  },
  {
   "cell_type": "code",
   "execution_count": 76,
   "metadata": {},
   "outputs": [
    {
     "name": "stdout",
     "output_type": "stream",
     "text": [
      "훈련 세트 점수:  0.76\n",
      "테스트 세트 점수:  0.55\n"
     ]
    }
   ],
   "source": [
    "knn= KNeighborsRegressor(n_neighbors=9).fit(X_train,y_train)\n",
    "print(\"훈련 세트 점수: {: .2f}\".format(knn.score(X_train,y_train)))\n",
    "print(\"테스트 세트 점수: {: .2f}\".format(knn.score(X_test,y_test)))"
   ]
  },
  {
   "cell_type": "code",
   "execution_count": null,
   "metadata": {},
   "outputs": [],
   "source": [
    "#1차원적이게 k값이 증가함에 따라서 테스트정확도가 떨어지는 것을 확인 할 수가 있었습니다."
   ]
  }
 ],
 "metadata": {
  "kernelspec": {
   "display_name": "Python 3",
   "language": "python",
   "name": "python3"
  },
  "language_info": {
   "codemirror_mode": {
    "name": "ipython",
    "version": 3
   },
   "file_extension": ".py",
   "mimetype": "text/x-python",
   "name": "python",
   "nbconvert_exporter": "python",
   "pygments_lexer": "ipython3",
   "version": "3.8.5"
  }
 },
 "nbformat": 4,
 "nbformat_minor": 4
}

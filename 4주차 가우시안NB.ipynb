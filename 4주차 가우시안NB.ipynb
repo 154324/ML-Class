{
 "cells": [
  {
   "cell_type": "code",
   "execution_count": 1,
   "metadata": {},
   "outputs": [],
   "source": [
    "import pandas as pd\n",
    "import numpy as np\n",
    "import matplotlib\n",
    "import matplotlib.pyplot as plt\n",
    "import mglearn\n",
    "%matplotlib inline\n",
    "from sklearn.neighbors import KNeighborsRegressor\n",
    "#train_test_split를 정의 해줘야 하기에 아래 라이브러리 만들어줍니다.\n",
    "from sklearn.model_selection import train_test_split\n",
    "#경고창 삭제하기\n",
    "import warnings\n",
    "warnings.filterwarnings('ignore')\n",
    "\n",
    "\n",
    "#폰트 설정\n",
    "from matplotlib import font_manager, rc\n",
    "font_name = font_manager.FontProperties(fname=\"c:/Windows/Fonts/malgun.ttf\").get_name()\n",
    "rc('font',family=font_name)"
   ]
  },
  {
   "cell_type": "code",
   "execution_count": 8,
   "metadata": {},
   "outputs": [
    {
     "name": "stdout",
     "output_type": "stream",
     "text": [
      "Accuracy:  1.0\n",
      "Number of mislabeled points out of a total &d points : %d (38, 0)\n"
     ]
    }
   ],
   "source": [
    "from sklearn.naive_bayes import GaussianNB\n",
    "from sklearn.datasets import load_iris\n",
    "from sklearn.model_selection import train_test_split\n",
    "\n",
    "iris_dataset = load_iris()\n",
    "X_train, X_test, y_train, y_test = train_test_split(\n",
    "iris_dataset['data'],iris_dataset['target'],random_state=0)#test 사이즈가 1일때\n",
    "classifier = GaussianNB() #연속적인 데이터에 적용할 때 사용한다.\n",
    "classifier.fit(X_train,y_train)\n",
    "y_pred = classifier.predict(X_test)\n",
    "\n",
    "nErrors = (y_test != y_pred).sum()\n",
    "accuracy = 1.0-nErrors/y_test.shape[0]\n",
    "print(\"Accuracy: \",accuracy)\n",
    "print(\"Number of mislabeled points out of a total &d points : %d\",\n",
    "     (X_test.shape[0],(y_test != y_pred).sum()))"
   ]
  },
  {
   "cell_type": "code",
   "execution_count": null,
   "metadata": {},
   "outputs": [],
   "source": [
    "#테스트 사이즈에 따라서 정확도에 달라짐을 확인 할 필요할 가 있따 "
   ]
  },
  {
   "cell_type": "code",
   "execution_count": 9,
   "metadata": {},
   "outputs": [
    {
     "name": "stdout",
     "output_type": "stream",
     "text": [
      "Accuracy:  0.9333333333333333\n",
      "Number of mislabeled points out of a total &d points : %d (60, 4)\n"
     ]
    }
   ],
   "source": [
    "from sklearn.naive_bayes import GaussianNB\n",
    "from sklearn.datasets import load_iris\n",
    "from sklearn.model_selection import train_test_split\n",
    "\n",
    "iris_dataset = load_iris()\n",
    "X_train, X_test, y_train, y_test = train_test_split(\n",
    "iris_dataset['data'],iris_dataset['target'],random_state=0,test_size=0.40)\n",
    "#test 사이즈가 0.4일때\n",
    "classifier = GaussianNB()\n",
    "classifier.fit(X_train,y_train)\n",
    "y_pred = classifier.predict(X_test)\n",
    "\n",
    "nErrors = (y_test != y_pred).sum()\n",
    "accuracy = 1.0-nErrors/y_test.shape[0]\n",
    "print(\"Accuracy: \",accuracy)\n",
    "print(\"Number of mislabeled points out of a total &d points : %d\",\n",
    "     (X_test.shape[0],(y_test != y_pred).sum()))"
   ]
  },
  {
   "cell_type": "code",
   "execution_count": 10,
   "metadata": {},
   "outputs": [
    {
     "name": "stdout",
     "output_type": "stream",
     "text": [
      "Accuracy:  1.0\n",
      "Number of mislabeled points out of a total &d points : %d (45, 0)\n"
     ]
    }
   ],
   "source": [
    "iris_dataset = load_iris()\n",
    "X_train, X_test, y_train, y_test = train_test_split(\n",
    "iris_dataset['data'],iris_dataset['target'],random_state=0,test_size=0.30)\n",
    "#test 사이즈가 0.3일때\n",
    "classifier = GaussianNB()\n",
    "classifier.fit(X_train,y_train)\n",
    "y_pred = classifier.predict(X_test)\n",
    "\n",
    "nErrors = (y_test != y_pred).sum()\n",
    "accuracy = 1.0-nErrors/y_test.shape[0]\n",
    "print(\"Accuracy: \",accuracy)\n",
    "print(\"Number of mislabeled points out of a total &d points : %d\",\n",
    "     (X_test.shape[0],(y_test != y_pred).sum()))"
   ]
  },
  {
   "cell_type": "code",
   "execution_count": 12,
   "metadata": {},
   "outputs": [
    {
     "name": "stdout",
     "output_type": "stream",
     "text": [
      "훈련 세트 점수:  0.958\n",
      "테스트 세트 점수:  0.958\n"
     ]
    }
   ],
   "source": [
    "#Cancer 분류 : malignant vs.benign\n",
    "from sklearn.linear_model import LogisticRegression\n",
    "from sklearn.datasets import load_breast_cancer\n",
    "cancer = load_breast_cancer()\n",
    "X_train, X_test, y_train, y_test = train_test_split(\n",
    "cancer.data,cancer.target,stratify=cancer.target,random_state=42)\n",
    "logreg =LogisticRegression(max_iter=5000).fit(X_train,y_train)\n",
    "print(\"훈련 세트 점수: {: .3f}\".format(logreg.score(X_train,y_train)))\n",
    "print(\"테스트 세트 점수: {: .3f}\".format(logreg.score(X_test,y_test)))"
   ]
  },
  {
   "cell_type": "code",
   "execution_count": null,
   "metadata": {},
   "outputs": [],
   "source": [
    "#cancer 데이터에 분류 일때 선형 회귀를 보고"
   ]
  },
  {
   "cell_type": "code",
   "execution_count": 13,
   "metadata": {},
   "outputs": [
    {
     "name": "stdout",
     "output_type": "stream",
     "text": [
      "훈련 세트 점수:  0.946\n",
      "테스트 세트 점수:  0.937\n"
     ]
    }
   ],
   "source": [
    "cancer = load_breast_cancer()\n",
    "X_train, X_test, y_train, y_test = train_test_split(\n",
    "cancer.data,cancer.target,stratify=cancer.target,random_state=42)\n",
    "classifierGN = GaussianNB().fit(X_train,y_train)\n",
    "print(\"훈련 세트 점수: {: .3f}\".format(classifierGN.score(X_train,y_train)))\n",
    "print(\"테스트 세트 점수: {: .3f}\".format(classifierGN.score(X_test,y_test)))"
   ]
  },
  {
   "cell_type": "code",
   "execution_count": null,
   "metadata": {},
   "outputs": [],
   "source": [
    "#가우시안을 썻을 때 선형 회귀가 더 정확도가 크다는 것을 볼 수가 있었습니다.\n",
    "#나이브 베이즈 모델과 선형 모델의 장단점을 비슷해 보입니다\n",
    "#훈련과 예측 속도가 빠르며 훈련 과정을 이해 하기 쉽지만\n",
    "#학습 시간이 너무 오래 걸리는 큰 데이터셋에는 나이브 베이즈 모델이 더 좋을 것 같습니다."
   ]
  }
 ],
 "metadata": {
  "kernelspec": {
   "display_name": "Python 3",
   "language": "python",
   "name": "python3"
  },
  "language_info": {
   "codemirror_mode": {
    "name": "ipython",
    "version": 3
   },
   "file_extension": ".py",
   "mimetype": "text/x-python",
   "name": "python",
   "nbconvert_exporter": "python",
   "pygments_lexer": "ipython3",
   "version": "3.8.5"
  }
 },
 "nbformat": 4,
 "nbformat_minor": 4
}

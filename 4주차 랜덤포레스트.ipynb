{
 "cells": [
  {
   "cell_type": "code",
   "execution_count": 1,
   "metadata": {},
   "outputs": [],
   "source": [
    "import pandas as pd\n",
    "import numpy as np\n",
    "import matplotlib\n",
    "import matplotlib.pyplot as plt\n",
    "import mglearn\n",
    "%matplotlib inline\n",
    "from sklearn.neighbors import KNeighborsRegressor\n",
    "#train_test_split를 정의 해줘야 하기에 아래 라이브러리 만들어줍니다.\n",
    "from sklearn.model_selection import train_test_split\n",
    "#경고창 삭제하기\n",
    "import warnings\n",
    "warnings.filterwarnings('ignore')\n",
    "\n",
    "\n",
    "#폰트 설정\n",
    "from matplotlib import font_manager, rc\n",
    "font_name = font_manager.FontProperties(fname=\"c:/Windows/Fonts/malgun.ttf\").get_name()\n",
    "rc('font',family=font_name)"
   ]
  },
  {
   "cell_type": "code",
   "execution_count": 5,
   "metadata": {
    "scrolled": true
   },
   "outputs": [
    {
     "name": "stdout",
     "output_type": "stream",
     "text": [
      "테스트 세트 정확도: 0.880\n",
      "\n",
      "테스트 세트 정확도 cv=5 : 0.860\n",
      "\n",
      "테스트 세트 정확도 cv=10 : 0.840\n",
      "\n"
     ]
    }
   ],
   "source": [
    "from sklearn.ensemble import RandomForestClassifier\n",
    "from sklearn.datasets import make_moons\n",
    "from sklearn.model_selection import cross_val_score\n",
    "\n",
    "X,y = make_moons(n_samples= 100, noise=0.25, random_state=3)\n",
    "X_train, X_test, y_train, y_test = train_test_split(X,y,random_state=0)\n",
    "\n",
    "forest = RandomForestClassifier(n_estimators=5, random_state=2)\n",
    "forest.fit(X_train,y_train)\n",
    "\n",
    "print(\"테스트 세트 정확도: {:.3f}\\n\".format(forest.score(X_test,y_test)))\n",
    "\n",
    "cvscores= cross_val_score(forest,X,y, cv=5)\n",
    "print(\"테스트 세트 정확도 cv=5 : {:.3f}\\n\".format(cvscores.mean()))\n",
    "\n",
    "\n",
    "cvscores= cross_val_score(forest,X,y, cv=10)\n",
    "print(\"테스트 세트 정확도 cv=10 : {:.3f}\\n\".format(cvscores.mean()))\n"
   ]
  },
  {
   "cell_type": "code",
   "execution_count": 6,
   "metadata": {},
   "outputs": [
    {
     "name": "stdout",
     "output_type": "stream",
     "text": [
      "테스트 세트 정확도: 0.840\n",
      "\n",
      "테스트 세트 정확도 cv=5 : 0.860\n",
      "\n",
      "테스트 세트 정확도 cv=10 : 0.850\n",
      "\n"
     ]
    }
   ],
   "source": [
    "from sklearn.ensemble import RandomForestClassifier\n",
    "from sklearn.tree import DecisionTreeClassifier\n",
    "from sklearn.model_selection import cross_val_score\n",
    "\n",
    "X,y = make_moons(n_samples= 100, noise=0.25, random_state=3)\n",
    "X_train, X_test, y_train, y_test = train_test_split(X,y,random_state=0)\n",
    "\n",
    "dt=DecisionTreeClassifier(max_depth=None,min_samples_split=2,random_state=0)\n",
    "dt.fit(X_train,y_train)\n",
    "\n",
    "print(\"테스트 세트 정확도: {:.3f}\\n\".format(dt.score(X_test,y_test)))\n",
    "\n",
    "cvscores= cross_val_score(dt,X,y, cv=5)\n",
    "print(\"테스트 세트 정확도 cv=5 : {:.3f}\\n\".format(cvscores.mean()))\n",
    "\n",
    "\n",
    "cvscores= cross_val_score(dt,X,y, cv=10)\n",
    "print(\"테스트 세트 정확도 cv=10 : {:.3f}\\n\".format(cvscores.mean()))\n"
   ]
  },
  {
   "cell_type": "code",
   "execution_count": null,
   "metadata": {},
   "outputs": [],
   "source": [
    "#랜덤 포레스트와 Dicision tree 비교를 해보니 테스트 정확도는 랜덤 포레스트가 더 좋았습니다."
   ]
  },
  {
   "cell_type": "code",
   "execution_count": 8,
   "metadata": {
    "scrolled": true
   },
   "outputs": [
    {
     "name": "stdout",
     "output_type": "stream",
     "text": [
      "훈련 세트 점수:  1.000\n",
      "테스트 세트 점수:  0.951\n"
     ]
    }
   ],
   "source": [
    "from sklearn.linear_model import LogisticRegression\n",
    "from sklearn.datasets import load_breast_cancer\n",
    "cancer = load_breast_cancer()\n",
    "X_train, X_test, y_train, y_test = train_test_split(\n",
    "cancer.data,cancer.target,stratify=cancer.target,random_state=0)\n",
    "forest = RandomForestClassifier(n_estimators=100, random_state=2)\n",
    "forest.fit(X_train,y_train)\n",
    "\n",
    "\n",
    "print(\"훈련 세트 점수: {: .3f}\".format(forest.score(X_train,y_train)))\n",
    "print(\"테스트 세트 점수: {: .3f}\".format(forest.score(X_test,y_test)))"
   ]
  },
  {
   "cell_type": "code",
   "execution_count": null,
   "metadata": {},
   "outputs": [],
   "source": [
    "#cancer data에서도 선형 모델이나 단일 결정 트리보다 높은 정확도를 나타낸다"
   ]
  },
  {
   "cell_type": "code",
   "execution_count": 9,
   "metadata": {
    "scrolled": true
   },
   "outputs": [
    {
     "data": {
      "image/png": "[encoded data removed]",
      "text/plain": [
       "<Figure size 432x288 with 1 Axes>"
      ]
     },
     "metadata": {
      "needs_background": "light"
     },
     "output_type": "display_data"
    }
   ],
   "source": [
    "def plot_feature_importances_cancer(model):\n",
    "    n_features = cancer.data.shape[1]\n",
    "    plt.barh(np.arange(n_features),model.feature_importances_,align='center')\n",
    "    plt.yticks(np.arange(n_features),cancer.feature_names)\n",
    "    plt.xlabel(\"특정 중요도\")\n",
    "    plt.ylabel(\"특성\")\n",
    "    plt.ylim(-1,n_features)\n",
    "\n",
    "plot_feature_importances_cancer(forest)"
   ]
  },
  {
   "cell_type": "code",
   "execution_count": null,
   "metadata": {},
   "outputs": [],
   "source": [
    "#랜덤 포레스트에서는 단일 트리의 경우보다 훨씬 많은 특성이 0이상의 중요도 값을 갖는다\n",
    "#랜덤포레스트에는 단일 트리보다 더 넓은 시각으로 데이터를 바라 볼수가 있었습니다."
   ]
  },
  {
   "cell_type": "code",
   "execution_count": 10,
   "metadata": {},
   "outputs": [
    {
     "name": "stdout",
     "output_type": "stream",
     "text": [
      "훈련 세트 점수:  1.000\n",
      "테스트 세트 점수:  0.958\n"
     ]
    }
   ],
   "source": [
    "from sklearn.ensemble import GradientBoostingClassifier\n",
    "X_train, X_test, y_train, y_test = train_test_split(\n",
    "cancer.data,cancer.target,stratify=cancer.target,random_state=0)\n",
    "\n",
    "gbrt = GradientBoostingClassifier(random_state=0)\n",
    "gbrt.fit(X_train,y_train)\n",
    "\n",
    "print(\"훈련 세트 점수: {: .3f}\".format(gbrt.score(X_train,y_train)))\n",
    "print(\"테스트 세트 점수: {: .3f}\".format(gbrt.score(X_test,y_test)))"
   ]
  },
  {
   "cell_type": "code",
   "execution_count": null,
   "metadata": {},
   "outputs": [],
   "source": [
    "#훈련 세트의 정확도가 100퍼이므로 과대적합된 것으로 보입니다\n",
    "#과대적합을 막기 위해서 트리의 최대 깊이를 줄여 가지치기를 강하게 하거나 학습률을\n",
    "#낮출수 있다고 합니다."
   ]
  },
  {
   "cell_type": "code",
   "execution_count": 11,
   "metadata": {},
   "outputs": [
    {
     "name": "stdout",
     "output_type": "stream",
     "text": [
      "훈련 세트 점수:  0.995\n",
      "테스트 세트 점수:  0.944\n"
     ]
    }
   ],
   "source": [
    "gbrt = GradientBoostingClassifier(random_state=0,learning_rate=0.01)\n",
    "gbrt.fit(X_train,y_train)\n",
    "\n",
    "print(\"훈련 세트 점수: {: .3f}\".format(gbrt.score(X_train,y_train)))\n",
    "print(\"테스트 세트 점수: {: .3f}\".format(gbrt.score(X_test,y_test)))"
   ]
  },
  {
   "cell_type": "code",
   "execution_count": null,
   "metadata": {},
   "outputs": [],
   "source": [
    "#다음 같이 최대 깊이를 낮추는 것으로 모델 성능 향상에 크게 기여 했습니다."
   ]
  },
  {
   "cell_type": "code",
   "execution_count": 12,
   "metadata": {
    "scrolled": true
   },
   "outputs": [
    {
     "data": {
      "image/png": "[encoded data removed]",
      "text/plain": [
       "<Figure size 432x288 with 1 Axes>"
      ]
     },
     "metadata": {
      "needs_background": "light"
     },
     "output_type": "display_data"
    }
   ],
   "source": [
    "gbrt = GradientBoostingClassifier(random_state=0,max_depth=1)\n",
    "gbrt.fit(X_train,y_train)\n",
    "\n",
    "plot_feature_importances_cancer(gbrt)"
   ]
  },
  {
   "cell_type": "code",
   "execution_count": null,
   "metadata": {},
   "outputs": [],
   "source": [
    "#그레디언트 부스팅 트리의 특성 중요도는 랜덤 포레스트와 비슷 해 보입니다.\n",
    "#하지만 일부 특성을 완전히 무시하고 있습니다\n",
    "#예측 시간이나 머신러닝 모델에서 마지막 성능까지 쥐어짜야 할때 그레이디언트 부스팅\n",
    "#이 더 장점이 있어 보입니다."
   ]
  }
 ],
 "metadata": {
  "kernelspec": {
   "display_name": "Python 3",
   "language": "python",
   "name": "python3"
  },
  "language_info": {
   "codemirror_mode": {
    "name": "ipython",
    "version": 3
   },
   "file_extension": ".py",
   "mimetype": "text/x-python",
   "name": "python",
   "nbconvert_exporter": "python",
   "pygments_lexer": "ipython3",
   "version": "3.8.5"
  }
 },
 "nbformat": 4,
 "nbformat_minor": 4
}

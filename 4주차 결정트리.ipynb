{
 "cells": [
  {
   "cell_type": "code",
   "execution_count": 1,
   "metadata": {},
   "outputs": [],
   "source": [
    "import pandas as pd\n",
    "import numpy as np\n",
    "import matplotlib\n",
    "import matplotlib.pyplot as plt\n",
    "import mglearn\n",
    "%matplotlib inline\n",
    "from sklearn.neighbors import KNeighborsRegressor\n",
    "#train_test_split를 정의 해줘야 하기에 아래 라이브러리 만들어줍니다.\n",
    "from sklearn.model_selection import train_test_split\n",
    "#경고창 삭제하기\n",
    "import warnings\n",
    "warnings.filterwarnings('ignore')\n",
    "\n",
    "\n",
    "#폰트 설정\n",
    "from matplotlib import font_manager, rc\n",
    "font_name = font_manager.FontProperties(fname=\"c:/Windows/Fonts/malgun.ttf\").get_name()\n",
    "rc('font',family=font_name)"
   ]
  },
  {
   "cell_type": "code",
   "execution_count": 5,
   "metadata": {},
   "outputs": [
    {
     "name": "stdout",
     "output_type": "stream",
     "text": [
      "훈련 세트 점수:  1.000\n",
      "테스트 세트 점수:  0.840\n"
     ]
    }
   ],
   "source": [
    "from sklearn.datasets import make_moons\n",
    "from sklearn.tree import DecisionTreeClassifier\n",
    "X,y = make_moons(n_samples= 100, noise=0.25, random_state=3)\n",
    "X_train, X_test, y_train, y_test = train_test_split(X,y,random_state=0)\n",
    "#tree = DecisionTreeClassifier(max_depth=4,random_state=0)\n",
    "tree= DecisionTreeClassifier(random_state=0)\n",
    "tree.fit(X_train,y_train)\n",
    "print(\"훈련 세트 점수: {: .3f}\".format(tree.score(X_train,y_train)))\n",
    "print(\"테스트 세트 점수: {: .3f}\".format(tree.score(X_test,y_test)))"
   ]
  },
  {
   "cell_type": "code",
   "execution_count": null,
   "metadata": {},
   "outputs": [],
   "source": [
    "#깊이 제한을 두지 않았기 때문에 제한 없이 결정트리 시도 한다"
   ]
  },
  {
   "cell_type": "code",
   "execution_count": 6,
   "metadata": {
    "scrolled": true
   },
   "outputs": [
    {
     "name": "stdout",
     "output_type": "stream",
     "text": [
      "훈련 세트 점수:  0.933\n",
      "테스트 세트 점수:  0.800\n"
     ]
    }
   ],
   "source": [
    "tree = DecisionTreeClassifier(max_depth=4,random_state=0)\n",
    "tree.fit(X_train,y_train)\n",
    "print(\"훈련 세트 점수: {: .3f}\".format(tree.score(X_train,y_train)))\n",
    "print(\"테스트 세트 점수: {: .3f}\".format(tree.score(X_test,y_test)))"
   ]
  },
  {
   "cell_type": "code",
   "execution_count": null,
   "metadata": {},
   "outputs": [],
   "source": [
    "#깊이를 4로 두면 가지가 4개가 되기에 훈련 세트는 떨어지지만 큰 차이가 없다"
   ]
  },
  {
   "cell_type": "code",
   "execution_count": null,
   "metadata": {},
   "outputs": [],
   "source": [
    "#cancer DATA의 깊이 따라서도 테스트 정확도를 알아보자"
   ]
  },
  {
   "cell_type": "code",
   "execution_count": 11,
   "metadata": {
    "scrolled": true
   },
   "outputs": [
    {
     "name": "stdout",
     "output_type": "stream",
     "text": [
      "X_train.shape: (426, 30) X_test.shape: (143, 30)\n",
      "max_depth={} 1\n",
      "훈련 세트 점수:  0.923\n",
      "테스트 세트 점수:  0.923\n",
      "max_depth={} 4\n",
      "훈련 세트 점수:  0.988\n",
      "테스트 세트 점수:  0.951\n",
      "max_depth={} 8\n",
      "훈련 세트 점수:  1.000\n",
      "테스트 세트 점수:  0.937\n"
     ]
    }
   ],
   "source": [
    "from sklearn.linear_model import LogisticRegression\n",
    "from sklearn.datasets import load_breast_cancer\n",
    "cancer = load_breast_cancer()\n",
    "X_train, X_test, y_train, y_test = train_test_split(\n",
    "cancer.data,cancer.target,stratify=cancer.target,random_state=42)\n",
    "print(\"X_train.shape: {}\".format(X_train.shape),\"X_test.shape: {}\".format(X_test.shape))\n",
    "for max_depth in [1,4,8]:\n",
    "    tree= DecisionTreeClassifier(max_depth=max_depth,random_state=0)\n",
    "    tree.fit(X_train,y_train)\n",
    "    print(\"max_depth={}\",format(max_depth))\n",
    "    print(\"훈련 세트 점수: {: .3f}\".format(tree.score(X_train,y_train)))\n",
    "    print(\"테스트 세트 점수: {: .3f}\".format(tree.score(X_test,y_test)))"
   ]
  },
  {
   "cell_type": "code",
   "execution_count": null,
   "metadata": {},
   "outputs": [],
   "source": [
    "#깊이가 커질수록 세트 점수는 가까워지나 테스트 점수는 달라짐을 알 수 있따"
   ]
  },
  {
   "cell_type": "code",
   "execution_count": 18,
   "metadata": {},
   "outputs": [],
   "source": [
    "from sklearn.tree import export_graphviz\n",
    "export_graphviz(tree, out_file =\"tree.dot\",class_names=[\"악성\",\"양성\"],\n",
    "               feature_names=cancer.feature_names,impurity=False,filled=True)\n",
    "#이 파일을 읽어서 graphviz 모듈을 사용해 결정트리를 시각화 할 수 있다"
   ]
  },
  {
   "cell_type": "code",
   "execution_count": 20,
   "metadata": {
    "scrolled": true
   },
   "outputs": [
    {
     "name": "stdout",
     "output_type": "stream",
     "text": [
      "특성 중요도 : \n",
      "[0.         0.00752597 0.         0.         0.00903116 0.\n",
      " 0.00752597 0.         0.         0.         0.00975731 0.04630969\n",
      " 0.         0.00238745 0.00231135 0.         0.         0.\n",
      " 0.         0.00668975 0.69546322 0.05383211 0.         0.01354675\n",
      " 0.         0.         0.01740312 0.11684357 0.01137258 0.        ]\n"
     ]
    }
   ],
   "source": [
    "print(\"특성 중요도 : \\n{}\".format(tree.feature_importances_))"
   ]
  },
  {
   "cell_type": "code",
   "execution_count": null,
   "metadata": {},
   "outputs": [],
   "source": [
    "#특성 중요도에 이 값은 0과 1 사이의 숫자로, 각 특성에 대해 0은 전혀 사용되지 않고\n",
    "#1은 완벽하게 타깃 클래스를 예측 했다는 것을 나 타낸다\n",
    "#특성 중요도의 전체 합은 1이다\n",
    "#중요도가 낮다고 해서 유용하지 않은 것은 아니다"
   ]
  },
  {
   "cell_type": "code",
   "execution_count": 28,
   "metadata": {
    "scrolled": true
   },
   "outputs": [
    {
     "data": {
      "image/png": "[encoded data removed]",
      "text/plain": [
       "<Figure size 432x288 with 1 Axes>"
      ]
     },
     "metadata": {
      "needs_background": "light"
     },
     "output_type": "display_data"
    }
   ],
   "source": [
    "def plot_feature_importances_cancer(model):\n",
    "    n_features = cancer.data.shape[1]\n",
    "    plt.barh(np.arange(n_features),model.feature_importances_,align='center')\n",
    "    plt.yticks(np.arange(n_features),cancer.feature_names)\n",
    "    plt.xlabel(\"특정 중요도\")\n",
    "    plt.ylabel(\"특성\")\n",
    "    plt.ylim(-1,n_features)\n",
    "\n",
    "plot_feature_importances_cancer(tree)"
   ]
  },
  {
   "cell_type": "code",
   "execution_count": null,
   "metadata": {},
   "outputs": [],
   "source": [
    "#특성 중요도 시각화를 하였습니다"
   ]
  },
  {
   "cell_type": "code",
   "execution_count": null,
   "metadata": {},
   "outputs": [],
   "source": [
    "#첫 번째 노드에서 사용한 특성 worst radius 가 가장 중요한 특성으로 나타 납니다\n",
    "#이 그래프르 통해 첫 번째 노드에서 두 클래스를 꽤 잘 나누고 있다는 것을 보여 분디다.\n",
    "#선형 모델의 계수와는 달리, 특성 중요도는 항상 양수인 것이 보입니다\n",
    "#중요성만 알려주지 높은 반지름이 양성을 의미하는지 악성을 의미하는지는 알수 없다.\n"
   ]
  },
  {
   "cell_type": "code",
   "execution_count": 36,
   "metadata": {
    "scrolled": true
   },
   "outputs": [
    {
     "name": "stdout",
     "output_type": "stream",
     "text": [
      "ram_prices.shape: (333, 3)\n",
      "ram_prices.keys: Index(['Unnamed: 0', 'date', 'price'], dtype='object')\n",
      "   Unnamed: 0    date        price\n",
      "0           0  1957.0  411041792.0\n",
      "1           1  1959.0   67947725.0\n",
      "2           2  1960.0    5242880.0\n",
      "3           3  1965.0    2642412.0\n",
      "4           4  1970.0     734003.0\n"
     ]
    },
    {
     "data": {
      "text/plain": [
       "Text(0, 0.5, '가격')"
      ]
     },
     "execution_count": 36,
     "metadata": {},
     "output_type": "execute_result"
    },
    {
     "data": {
      "image/png": "[encoded data removed]",
      "text/plain": [
       "<Figure size 432x288 with 1 Axes>"
      ]
     },
     "metadata": {
      "needs_background": "light"
     },
     "output_type": "display_data"
    }
   ],
   "source": [
    "import os\n",
    "ram_prices = pd.read_csv(os.path.join(mglearn.datasets.DATA_PATH,\"ram_price.csv\"))\n",
    "\n",
    "print(\"ram_prices.shape: {}\".format(ram_prices.shape))\n",
    "print(\"ram_prices.keys: {}\".format(ram_prices.keys()))\n",
    "print(\"{}\".format(ram_prices[:5]))\n",
    "\n",
    "plt.yticks(fontname='Arial')\n",
    "plt.semilogy(ram_prices.date,ram_prices.price)\n",
    "plt.xlabel(\"년\")\n",
    "plt.ylabel(\"가격\")\n",
    "\n",
    "\n"
   ]
  },
  {
   "cell_type": "code",
   "execution_count": null,
   "metadata": {},
   "outputs": [],
   "source": [
    "#그래프를 로그스케일로 그리면 약간의 굴곡을 제외 하고는 선형적으로 나타나서 예측하기 쉽다\n",
    "#결정트리 회귀의 장점이라 볼 수 있다"
   ]
  },
  {
   "cell_type": "code",
   "execution_count": 42,
   "metadata": {
    "scrolled": false
   },
   "outputs": [
    {
     "data": {
      "text/plain": [
       "<matplotlib.legend.Legend at 0x1c8317d24f0>"
      ]
     },
     "execution_count": 42,
     "metadata": {},
     "output_type": "execute_result"
    },
    {
     "name": "stderr",
     "output_type": "stream",
     "text": [
      "Font 'default' does not have a glyph for '-' [U+2212], substituting with a dummy symbol.\n",
      "Font 'default' does not have a glyph for '-' [U+2212], substituting with a dummy symbol.\n",
      "Font 'default' does not have a glyph for '-' [U+2212], substituting with a dummy symbol.\n",
      "Font 'default' does not have a glyph for '-' [U+2212], substituting with a dummy symbol.\n"
     ]
    },
    {
     "data": {
      "image/png": "[encoded data removed]",
      "text/plain": [
       "<Figure size 432x288 with 1 Axes>"
      ]
     },
     "metadata": {
      "needs_background": "light"
     },
     "output_type": "display_data"
    }
   ],
   "source": [
    "from sklearn.tree import DecisionTreeRegressor\n",
    "from sklearn.linear_model import LinearRegression\n",
    "\n",
    "#2000년 이전을 훈련 데이터로, 2000년 이후를 테스트 데이터로 만들기\n",
    "data_train =ram_prices[ram_prices.date<2000]\n",
    "data_test =ram_prices[ram_prices.date>=2000]\n",
    "\n",
    "#가격 예측을 위해 날짜 특성만을 이용하기\n",
    "X_train = data_train.date[:,np.newaxis]\n",
    "#데이터와 타깃 사이의 관계를 간단하게 만들기 위해 로그 스케일로 전환\n",
    "y_train = np.log(data_train.price)\n",
    "tree= DecisionTreeRegressor().fit(X_train,y_train)\n",
    "linear_reg= LinearRegression().fit(X_train,y_train)\n",
    "\n",
    "#예측은 전체 기간에 대해서 수행\n",
    "X_all = ram_prices.date[:, np.newaxis]\n",
    "\n",
    "pred_tree = tree.predict(X_all)\n",
    "pred_lr = linear_reg.predict(X_all)\n",
    "\n",
    "#예측 값을 로그 스케일로 되돌리기\n",
    "price_tree = np.exp(pred_tree)\n",
    "price_lr= np.exp(pred_lr)\n",
    "\n",
    "plt.semilogy(data_train.date,data_train.price,label=\"훈련 데이터\")\n",
    "plt.semilogy(data_test.date,data_test.price,label=\"테스트 데이터\")\n",
    "plt.semilogy(ram_prices.date,price_tree,label=\"트리 예측\")\n",
    "plt.semilogy(ram_prices.date,price_lr,label=\"선형회귀 예측\")\n",
    "plt.legend()"
   ]
  },
  {
   "cell_type": "code",
   "execution_count": null,
   "metadata": {},
   "outputs": [],
   "source": [
    "# 두 모델의 확연 차이를 볼 수가 있었다. 선형 모델은 우리가 아느대로 직선이고\n",
    "#데이터가 근사하지만\n",
    "#트리모델은 훈련 데이터를 완벽하게 예측하였다.\n",
    "#결정 트리의 주요 단점은 사전 가지치기를 사용함에도 불구하고 과대적합되는 경햐이 있어 일반화\n",
    "#성능이 좋지 않다는 것을 알 수가 있었다."
   ]
  }
 ],
 "metadata": {
  "kernelspec": {
   "display_name": "Python 3",
   "language": "python",
   "name": "python3"
  },
  "language_info": {
   "codemirror_mode": {
    "name": "ipython",
    "version": 3
   },
   "file_extension": ".py",
   "mimetype": "text/x-python",
   "name": "python",
   "nbconvert_exporter": "python",
   "pygments_lexer": "ipython3",
   "version": "3.8.5"
  }
 },
 "nbformat": 4,
 "nbformat_minor": 4
}
